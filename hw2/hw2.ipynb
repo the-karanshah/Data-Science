{
 "cells": [
  {
   "cell_type": "markdown",
   "metadata": {
    "colab_type": "text",
    "id": "8_4dBdR5Ufxy"
   },
   "source": [
    "# Homework 2 - IEEE Fraud Detection"
   ]
  },
  {
   "cell_type": "markdown",
   "metadata": {
    "colab_type": "text",
    "id": "c7-1HoG9Ufxz"
   },
   "source": [
    "For all parts below, answer all parts as shown in the Google document for Homework 2. Be sure to include both code that justifies your answer as well as text to answer the questions. We also ask that code be commented to make it easier to follow."
   ]
  },
  {
   "cell_type": "code",
   "execution_count": 1,
   "metadata": {
    "colab": {
     "base_uri": "https://localhost:8080/",
     "height": 34
    },
    "colab_type": "code",
    "id": "12qYyN4oUhW4",
    "outputId": "c3252bf0-5919-49b2-b743-c6dac308a57e"
   },
   "outputs": [
    {
     "name": "stdout",
     "output_type": "stream",
     "text": [
      "Mounted at /content/drive\n"
     ]
    }
   ],
   "source": [
    "from google.colab import drive\n",
    "drive.mount('/content/drive', force_remount=True)"
   ]
  },
  {
   "cell_type": "markdown",
   "metadata": {
    "colab_type": "text",
    "id": "PQD7E6M6tUiY"
   },
   "source": [
    "## Libraries and Definitions"
   ]
  },
  {
   "cell_type": "code",
   "execution_count": 0,
   "metadata": {
    "colab": {},
    "colab_type": "code",
    "id": "gkinvnAzUfx0"
   },
   "outputs": [],
   "source": [
    "import pandas as pd\n",
    "import numpy as np\n",
    "import matplotlib.pyplot as plt\n",
    "import seaborn as sns\n",
    "from sklearn.linear_model import LogisticRegression, LinearRegression\n",
    "from sklearn.tree import DecisionTreeClassifier\n",
    "from sklearn.model_selection import KFold\n",
    "from sklearn import metrics\n",
    "from sklearn.neighbors import KNeighborsClassifier\n",
    "from sklearn.preprocessing import LabelEncoder, OneHotEncoder\n",
    "import pickle"
   ]
  },
  {
   "cell_type": "code",
   "execution_count": 0,
   "metadata": {
    "colab": {},
    "colab_type": "code",
    "id": "ZqZ9nC8uVBqb"
   },
   "outputs": [],
   "source": [
    "data_path = \"./drive/My Drive/DSF/hw2/\" # colab path"
   ]
  },
  {
   "cell_type": "code",
   "execution_count": 0,
   "metadata": {
    "colab": {},
    "colab_type": "code",
    "id": "6uxT2kD0Ufx3"
   },
   "outputs": [],
   "source": [
    "pd.set_option('display.float_format', lambda x: '%.3f' % x)\n",
    "pd.options.mode.chained_assignment = None  # default='warn'"
   ]
  },
  {
   "cell_type": "markdown",
   "metadata": {
    "colab_type": "text",
    "id": "7UabhOke_-53"
   },
   "source": [
    "To reduce memory usage, data types are defined in advance and while loading they are given as parameter. Basically, dataset is having higher (but not required) data types for most of the features so it takes lot of memory."
   ]
  },
  {
   "cell_type": "code",
   "execution_count": 0,
   "metadata": {
    "colab": {},
    "colab_type": "code",
    "id": "zMz7OTuFcfTR"
   },
   "outputs": [],
   "source": [
    "# inspired from this post: https://www.kaggle.com/mhviraf/reducing-memory-size-an-alternative\n",
    "proper_dtypes = {'TransactionID': 'UInt32', 'isFraud': 'UInt8', 'TransactionDT': 'UInt32', 'card1': 'UInt16', 'card2': 'UInt16', 'card3': 'UInt8', 'card5': 'UInt8', 'addr1': 'UInt16', 'addr2': 'UInt8', 'dist1': 'UInt16', 'dist2': 'UInt16', 'C1': 'UInt16', 'C2': 'UInt16', 'C3': 'UInt8', 'C4': 'UInt16', 'C5': 'UInt16', 'C6': 'UInt16', 'C7': 'UInt16', 'C8': 'UInt16', 'C9': 'UInt16', 'C10': 'UInt16', 'C11': 'UInt16', 'C12': 'UInt16', 'C13': 'UInt16', 'C14': 'UInt16', 'D1': 'UInt16', 'D2': 'UInt16', 'D3': 'UInt16', 'D5': 'UInt16', 'D7': 'UInt16', 'D10': 'UInt16', 'D13': 'UInt16', 'V1': 'UInt8', 'V2': 'UInt8', 'V3': 'UInt8', 'V4': 'UInt8', 'V5': 'UInt8', 'V6': 'UInt8', 'V7': 'UInt8', 'V8': 'UInt8', 'V9': 'UInt8', 'V10': 'UInt8', 'V11': 'UInt8', 'V12': 'UInt8', 'V13': 'UInt8', 'V14': 'UInt8', 'V15': 'UInt8', 'V16': 'UInt8', 'V17': 'UInt8', 'V18': 'UInt8', 'V19': 'UInt8', 'V20': 'UInt8', 'V21': 'UInt8', 'V22': 'UInt8', 'V23': 'UInt8', 'V24': 'UInt8', 'V25': 'UInt8', 'V26': 'UInt8', 'V27': 'UInt8', 'V28': 'UInt8', 'V29': 'UInt8', 'V30': 'UInt8', 'V31': 'UInt8', 'V32': 'UInt8', 'V33': 'UInt8', 'V34': 'UInt8', 'V35': 'UInt8', 'V36': 'UInt8', 'V37': 'UInt8', 'V38': 'UInt8', 'V39': 'UInt8', 'V40': 'UInt8', 'V41': 'UInt8', 'V42': 'UInt8', 'V43': 'UInt8', 'V44': 'UInt8', 'V45': 'UInt8', 'V46': 'UInt8', 'V47': 'UInt8', 'V48': 'UInt8', 'V49': 'UInt8', 'V50': 'UInt8', 'V51': 'UInt8', 'V52': 'UInt8', 'V53': 'UInt8', 'V54': 'UInt8', 'V55': 'UInt8', 'V56': 'UInt8', 'V57': 'UInt8', 'V58': 'UInt8', 'V59': 'UInt8', 'V60': 'UInt8', 'V61': 'UInt8', 'V62': 'UInt8', 'V63': 'UInt8', 'V64': 'UInt8', 'V65': 'UInt8', 'V66': 'UInt8', 'V67': 'UInt8', 'V68': 'UInt8', 'V69': 'UInt8', 'V70': 'UInt8', 'V71': 'UInt8', 'V72': 'UInt8', 'V73': 'UInt8', 'V74': 'UInt8', 'V75': 'UInt8', 'V76': 'UInt8', 'V77': 'UInt8', 'V78': 'UInt8', 'V79': 'UInt8', 'V80': 'UInt8', 'V81': 'UInt8', 'V82': 'UInt8', 'V83': 'UInt8', 'V84': 'UInt8', 'V85': 'UInt8', 'V86': 'UInt8', 'V87': 'UInt8', 'V88': 'UInt8', 'V89': 'UInt8', 'V90': 'UInt8', 'V91': 'UInt8', 'V92': 'UInt8', 'V93': 'UInt8', 'V94': 'UInt8', 'V95': 'UInt16', 'V96': 'UInt16', 'V97': 'UInt16', 'V98': 'UInt8', 'V99': 'UInt8', 'V100': 'UInt8', 'V101': 'UInt16', 'V102': 'UInt16', 'V103': 'UInt16', 'V104': 'UInt8', 'V105': 'UInt8', 'V106': 'UInt8', 'V107': 'UInt8', 'V108': 'UInt8', 'V109': 'UInt8', 'V110': 'UInt8', 'V111': 'UInt8', 'V112': 'UInt8', 'V113': 'UInt8', 'V114': 'UInt8', 'V115': 'UInt8', 'V116': 'UInt8', 'V117': 'UInt8', 'V118': 'UInt8', 'V119': 'UInt8', 'V120': 'UInt8', 'V121': 'UInt8', 'V122': 'UInt8', 'V123': 'UInt8', 'V124': 'UInt8', 'V125': 'UInt8', 'V138': 'UInt8', 'V139': 'UInt8', 'V140': 'UInt8', 'V141': 'UInt8', 'V142': 'UInt8', 'V143': 'UInt16', 'V144': 'UInt8', 'V145': 'UInt16', 'V146': 'UInt8', 'V147': 'UInt8', 'V148': 'UInt8', 'V149': 'UInt8', 'V150': 'UInt16', 'V151': 'UInt8', 'V152': 'UInt8', 'V153': 'UInt8', 'V154': 'UInt8', 'V155': 'UInt8', 'V156': 'UInt8', 'V157': 'UInt8', 'V158': 'UInt8', 'V167': 'UInt16', 'V168': 'UInt16', 'V169': 'UInt8', 'V170': 'UInt8', 'V171': 'UInt8', 'V172': 'UInt8', 'V173': 'UInt8', 'V174': 'UInt8', 'V175': 'UInt8', 'V176': 'UInt8', 'V177': 'UInt16', 'V178': 'UInt16', 'V179': 'UInt16', 'V180': 'UInt8', 'V181': 'UInt8', 'V182': 'UInt8', 'V183': 'UInt8', 'V184': 'UInt8', 'V185': 'UInt8', 'V186': 'UInt8', 'V187': 'UInt8', 'V188': 'UInt8', 'V189': 'UInt8', 'V190': 'UInt8', 'V191': 'UInt8', 'V192': 'UInt8', 'V193': 'UInt8', 'V194': 'UInt8', 'V195': 'UInt8', 'V196': 'UInt8', 'V197': 'UInt8', 'V198': 'UInt8', 'V199': 'UInt8', 'V200': 'UInt8', 'V201': 'UInt8', 'V217': 'UInt16', 'V218': 'UInt16', 'V219': 'UInt16', 'V220': 'UInt8', 'V221': 'UInt16', 'V222': 'UInt16', 'V223': 'UInt8', 'V224': 'UInt8', 'V225': 'UInt8', 'V226': 'UInt16', 'V227': 'UInt16', 'V228': 'UInt8', 'V229': 'UInt16', 'V230': 'UInt16', 'V231': 'UInt16', 'V232': 'UInt16', 'V233': 'UInt16', 'V234': 'UInt16', 'V235': 'UInt8', 'V236': 'UInt8', 'V237': 'UInt8', 'V238': 'UInt8', 'V239': 'UInt8', 'V240': 'UInt8', 'V241': 'UInt8', 'V242': 'UInt8', 'V243': 'UInt8', 'V244': 'UInt8', 'V245': 'UInt16', 'V246': 'UInt8', 'V247': 'UInt8', 'V248': 'UInt8', 'V249': 'UInt8', 'V250': 'UInt8', 'V251': 'UInt8', 'V252': 'UInt8', 'V253': 'UInt8', 'V254': 'UInt8', 'V255': 'UInt8', 'V256': 'UInt8', 'V257': 'UInt8', 'V258': 'UInt16', 'V259': 'UInt16', 'V260': 'UInt8', 'V261': 'UInt8', 'V262': 'UInt8', 'V279': 'UInt16', 'V280': 'UInt16', 'V281': 'UInt8', 'V282': 'UInt8', 'V283': 'UInt8', 'V284': 'UInt8', 'V285': 'UInt8', 'V286': 'UInt8', 'V287': 'UInt8', 'V288': 'UInt8', 'V289': 'UInt8', 'V290': 'UInt8', 'V291': 'UInt16', 'V292': 'UInt16', 'V293': 'UInt16', 'V294': 'UInt16', 'V295': 'UInt16', 'V296': 'UInt8', 'V297': 'UInt8', 'V298': 'UInt8', 'V299': 'UInt8', 'V300': 'UInt8', 'V301': 'UInt8', 'V302': 'UInt8', 'V303': 'UInt8', 'V304': 'UInt8', 'V305': 'UInt8', 'V322': 'UInt16', 'V323': 'UInt16', 'V324': 'UInt16', 'V325': 'UInt8', 'V326': 'UInt8', 'V327': 'UInt8', 'V328': 'UInt8', 'V329': 'UInt8', 'V330': 'UInt8'}"
   ]
  },
  {
   "cell_type": "markdown",
   "metadata": {
    "colab_type": "text",
    "id": "AomvtwvatfpK"
   },
   "source": [
    "## Load and Analysis Data"
   ]
  },
  {
   "cell_type": "code",
   "execution_count": 0,
   "metadata": {
    "colab": {},
    "colab_type": "code",
    "id": "FCjmkS83Ufx6"
   },
   "outputs": [],
   "source": [
    "train_identity = pd.read_csv(data_path + 'train_identity.csv')"
   ]
  },
  {
   "cell_type": "code",
   "execution_count": 0,
   "metadata": {
    "colab": {},
    "colab_type": "code",
    "id": "lF6RF4d1cpMv"
   },
   "outputs": [],
   "source": [
    "train_transaction = pd.read_csv(data_path + 'train_transaction.csv', dtype=proper_dtypes)"
   ]
  },
  {
   "cell_type": "code",
   "execution_count": 0,
   "metadata": {
    "colab": {},
    "colab_type": "code",
    "id": "FRwJfxEEP2RV"
   },
   "outputs": [],
   "source": [
    "test_transaction = pd.read_csv(data_path + 'test_transaction.csv', dtype=proper_dtypes)"
   ]
  },
  {
   "cell_type": "code",
   "execution_count": 0,
   "metadata": {
    "colab": {},
    "colab_type": "code",
    "id": "UPtM9Um_P4lV"
   },
   "outputs": [],
   "source": [
    "test_identity = pd.read_csv(data_path + 'test_identity.csv')"
   ]
  },
  {
   "cell_type": "code",
   "execution_count": 10,
   "metadata": {
    "colab": {
     "base_uri": "https://localhost:8080/",
     "height": 87
    },
    "colab_type": "code",
    "id": "goaMOfFLPhzH",
    "outputId": "01729d46-b0fe-4168-8ad2-19d7d4e4975d"
   },
   "outputs": [
    {
     "name": "stdout",
     "output_type": "stream",
     "text": [
      "Train transaction (590540, 394)\n",
      "Train identity (144233, 41)\n",
      "Test transaction (506691, 393)\n",
      "Test identity (141907, 41)\n"
     ]
    }
   ],
   "source": [
    "print(\"Train transaction\", train_transaction.shape)\n",
    "print(\"Train identity\", train_identity.shape)\n",
    "print(\"Test transaction\", test_transaction.shape)\n",
    "print(\"Test identity\", test_identity.shape)"
   ]
  },
  {
   "cell_type": "markdown",
   "metadata": {
    "colab_type": "text",
    "id": "Oj6A5qi5QAC0"
   },
   "source": [
    "Here, there should be some data in train transaction which may not map to the train identity. So using left join to merge both dataframe on transaction Id column."
   ]
  },
  {
   "cell_type": "code",
   "execution_count": 0,
   "metadata": {
    "colab": {},
    "colab_type": "code",
    "id": "T9PN4VThQnMZ"
   },
   "outputs": [],
   "source": [
    "train_df = pd.merge(train_transaction, train_identity, on='TransactionID', how='left')\n",
    "test_df = pd.merge(test_transaction, test_identity, on='TransactionID', how='left')\n",
    "del train_transaction, train_identity, test_transaction, test_identity"
   ]
  },
  {
   "cell_type": "code",
   "execution_count": 12,
   "metadata": {
    "colab": {
     "base_uri": "https://localhost:8080/",
     "height": 52
    },
    "colab_type": "code",
    "id": "D9PJa15iMO5g",
    "outputId": "1cd2c2da-96af-4467-86db-53dc256fa2ee"
   },
   "outputs": [
    {
     "name": "stdout",
     "output_type": "stream",
     "text": [
      "train_df (590540, 434)\n",
      "test_df (506691, 433)\n"
     ]
    }
   ],
   "source": [
    "print(\"train_df\", train_df.shape)\n",
    "print(\"test_df\", test_df.shape)"
   ]
  },
  {
   "cell_type": "markdown",
   "metadata": {
    "colab_type": "text",
    "id": "ASkgXH8ASPeV"
   },
   "source": [
    "That one extra column in train_df is \"isFraud\" which we want to predict in test_df"
   ]
  },
  {
   "cell_type": "code",
   "execution_count": 0,
   "metadata": {
    "colab": {},
    "colab_type": "code",
    "id": "gXTw2bkyUfyA"
   },
   "outputs": [],
   "source": [
    "# non anonymous columns are the columns assignment document has mentioned\n",
    "trans_non_anonymous_columns = [\n",
    "    'TransactionID',\n",
    "    'TransactionDT',\n",
    "    'TransactionAmt',\n",
    "    'ProductCD',\n",
    "    'card4',\n",
    "    'card6',\n",
    "    'P_emaildomain',\n",
    "    'R_emaildomain',\n",
    "    'addr1',\n",
    "    'addr2',\n",
    "    'dist1',\n",
    "    'dist2',\n",
    "    'isFraud',\n",
    "    'TransactionID',\n",
    "    'DeviceType',\n",
    "    'DeviceInfo'\n",
    "]\n",
    "\n",
    "train_df_known = train_df[trans_non_anonymous_columns]"
   ]
  },
  {
   "cell_type": "markdown",
   "metadata": {
    "colab_type": "text",
    "id": "sKVx51z33XYM"
   },
   "source": [
    "**Data types used for each non anonymous columns**"
   ]
  },
  {
   "cell_type": "code",
   "execution_count": 14,
   "metadata": {
    "colab": {
     "base_uri": "https://localhost:8080/",
     "height": 316
    },
    "colab_type": "code",
    "id": "l9orBnfN3TZA",
    "outputId": "4e00a1cd-d86b-4f07-ea39-18ffa006dee6"
   },
   "outputs": [
    {
     "data": {
      "text/plain": [
       "TransactionID      UInt32\n",
       "TransactionDT      UInt32\n",
       "TransactionAmt    float64\n",
       "ProductCD          object\n",
       "card4              object\n",
       "card6              object\n",
       "P_emaildomain      object\n",
       "R_emaildomain      object\n",
       "addr1              UInt16\n",
       "addr2               UInt8\n",
       "dist1              UInt16\n",
       "dist2              UInt16\n",
       "isFraud             UInt8\n",
       "TransactionID      UInt32\n",
       "DeviceType         object\n",
       "DeviceInfo         object\n",
       "dtype: object"
      ]
     },
     "execution_count": 14,
     "metadata": {
      "tags": []
     },
     "output_type": "execute_result"
    }
   ],
   "source": [
    "train_df_known.dtypes"
   ]
  },
  {
   "cell_type": "markdown",
   "metadata": {
    "colab_type": "text",
    "id": "Jw15p2D70HpE"
   },
   "source": [
    "**Columns having NaN values**"
   ]
  },
  {
   "cell_type": "code",
   "execution_count": 15,
   "metadata": {
    "colab": {
     "base_uri": "https://localhost:8080/",
     "height": 70
    },
    "colab_type": "code",
    "id": "HkoAjbrkUfyK",
    "outputId": "c9cde36f-5fc4-4ab0-fa51-c5723b29d7be"
   },
   "outputs": [
    {
     "data": {
      "text/plain": [
       "Index(['card4', 'card6', 'P_emaildomain', 'R_emaildomain', 'addr1', 'addr2',\n",
       "       'dist1', 'dist2', 'DeviceType', 'DeviceInfo'],\n",
       "      dtype='object')"
      ]
     },
     "execution_count": 15,
     "metadata": {
      "tags": []
     },
     "output_type": "execute_result"
    }
   ],
   "source": [
    "train_df_known.columns[train_df_known.isna().any()]"
   ]
  },
  {
   "cell_type": "markdown",
   "metadata": {
    "colab_type": "text",
    "id": "B1-RcDwE1qm0"
   },
   "source": [
    "So these are the columns having nan values."
   ]
  },
  {
   "cell_type": "markdown",
   "metadata": {
    "colab_type": "text",
    "id": "RW42Zp282EZP"
   },
   "source": [
    "**Statistical distribution of the dataframe for non anonymous columns**"
   ]
  },
  {
   "cell_type": "code",
   "execution_count": 16,
   "metadata": {
    "colab": {
     "base_uri": "https://localhost:8080/",
     "height": 393
    },
    "colab_type": "code",
    "id": "YllIPwiOUfyP",
    "outputId": "3b3a8131-3eb2-4d8f-c4a1-b3116b4b9073"
   },
   "outputs": [
    {
     "data": {
      "text/html": [
       "<div>\n",
       "<style scoped>\n",
       "    .dataframe tbody tr th:only-of-type {\n",
       "        vertical-align: middle;\n",
       "    }\n",
       "\n",
       "    .dataframe tbody tr th {\n",
       "        vertical-align: top;\n",
       "    }\n",
       "\n",
       "    .dataframe thead th {\n",
       "        text-align: right;\n",
       "    }\n",
       "</style>\n",
       "<table border=\"1\" class=\"dataframe\">\n",
       "  <thead>\n",
       "    <tr style=\"text-align: right;\">\n",
       "      <th></th>\n",
       "      <th>TransactionID</th>\n",
       "      <th>TransactionDT</th>\n",
       "      <th>TransactionAmt</th>\n",
       "      <th>ProductCD</th>\n",
       "      <th>card4</th>\n",
       "      <th>card6</th>\n",
       "      <th>P_emaildomain</th>\n",
       "      <th>R_emaildomain</th>\n",
       "      <th>addr1</th>\n",
       "      <th>addr2</th>\n",
       "      <th>dist1</th>\n",
       "      <th>dist2</th>\n",
       "      <th>isFraud</th>\n",
       "      <th>TransactionID</th>\n",
       "      <th>DeviceType</th>\n",
       "      <th>DeviceInfo</th>\n",
       "    </tr>\n",
       "  </thead>\n",
       "  <tbody>\n",
       "    <tr>\n",
       "      <th>count</th>\n",
       "      <td>590540.000</td>\n",
       "      <td>590540.000</td>\n",
       "      <td>590540.000</td>\n",
       "      <td>590540</td>\n",
       "      <td>588963</td>\n",
       "      <td>588969</td>\n",
       "      <td>496084</td>\n",
       "      <td>137291</td>\n",
       "      <td>524834.000</td>\n",
       "      <td>524834.000</td>\n",
       "      <td>238269.000</td>\n",
       "      <td>37627.000</td>\n",
       "      <td>590540.000</td>\n",
       "      <td>590540.000</td>\n",
       "      <td>140810</td>\n",
       "      <td>118666</td>\n",
       "    </tr>\n",
       "    <tr>\n",
       "      <th>unique</th>\n",
       "      <td>nan</td>\n",
       "      <td>nan</td>\n",
       "      <td>nan</td>\n",
       "      <td>5</td>\n",
       "      <td>4</td>\n",
       "      <td>4</td>\n",
       "      <td>59</td>\n",
       "      <td>60</td>\n",
       "      <td>nan</td>\n",
       "      <td>nan</td>\n",
       "      <td>nan</td>\n",
       "      <td>nan</td>\n",
       "      <td>nan</td>\n",
       "      <td>nan</td>\n",
       "      <td>2</td>\n",
       "      <td>1786</td>\n",
       "    </tr>\n",
       "    <tr>\n",
       "      <th>top</th>\n",
       "      <td>nan</td>\n",
       "      <td>nan</td>\n",
       "      <td>nan</td>\n",
       "      <td>W</td>\n",
       "      <td>visa</td>\n",
       "      <td>debit</td>\n",
       "      <td>gmail.com</td>\n",
       "      <td>gmail.com</td>\n",
       "      <td>nan</td>\n",
       "      <td>nan</td>\n",
       "      <td>nan</td>\n",
       "      <td>nan</td>\n",
       "      <td>nan</td>\n",
       "      <td>nan</td>\n",
       "      <td>desktop</td>\n",
       "      <td>Windows</td>\n",
       "    </tr>\n",
       "    <tr>\n",
       "      <th>freq</th>\n",
       "      <td>nan</td>\n",
       "      <td>nan</td>\n",
       "      <td>nan</td>\n",
       "      <td>439670</td>\n",
       "      <td>384767</td>\n",
       "      <td>439938</td>\n",
       "      <td>228355</td>\n",
       "      <td>57147</td>\n",
       "      <td>nan</td>\n",
       "      <td>nan</td>\n",
       "      <td>nan</td>\n",
       "      <td>nan</td>\n",
       "      <td>nan</td>\n",
       "      <td>nan</td>\n",
       "      <td>85165</td>\n",
       "      <td>47722</td>\n",
       "    </tr>\n",
       "    <tr>\n",
       "      <th>mean</th>\n",
       "      <td>3282269.500</td>\n",
       "      <td>7372311.310</td>\n",
       "      <td>135.027</td>\n",
       "      <td>NaN</td>\n",
       "      <td>NaN</td>\n",
       "      <td>NaN</td>\n",
       "      <td>NaN</td>\n",
       "      <td>NaN</td>\n",
       "      <td>290.734</td>\n",
       "      <td>86.801</td>\n",
       "      <td>118.502</td>\n",
       "      <td>231.855</td>\n",
       "      <td>0.035</td>\n",
       "      <td>3282269.500</td>\n",
       "      <td>NaN</td>\n",
       "      <td>NaN</td>\n",
       "    </tr>\n",
       "    <tr>\n",
       "      <th>std</th>\n",
       "      <td>170474.358</td>\n",
       "      <td>4617223.647</td>\n",
       "      <td>239.163</td>\n",
       "      <td>NaN</td>\n",
       "      <td>NaN</td>\n",
       "      <td>NaN</td>\n",
       "      <td>NaN</td>\n",
       "      <td>NaN</td>\n",
       "      <td>101.741</td>\n",
       "      <td>2.691</td>\n",
       "      <td>371.872</td>\n",
       "      <td>529.053</td>\n",
       "      <td>0.184</td>\n",
       "      <td>170474.358</td>\n",
       "      <td>NaN</td>\n",
       "      <td>NaN</td>\n",
       "    </tr>\n",
       "    <tr>\n",
       "      <th>min</th>\n",
       "      <td>2987000.000</td>\n",
       "      <td>86400.000</td>\n",
       "      <td>0.251</td>\n",
       "      <td>NaN</td>\n",
       "      <td>NaN</td>\n",
       "      <td>NaN</td>\n",
       "      <td>NaN</td>\n",
       "      <td>NaN</td>\n",
       "      <td>100.000</td>\n",
       "      <td>10.000</td>\n",
       "      <td>0.000</td>\n",
       "      <td>0.000</td>\n",
       "      <td>0.000</td>\n",
       "      <td>2987000.000</td>\n",
       "      <td>NaN</td>\n",
       "      <td>NaN</td>\n",
       "    </tr>\n",
       "    <tr>\n",
       "      <th>25%</th>\n",
       "      <td>3134634.750</td>\n",
       "      <td>3027057.750</td>\n",
       "      <td>43.321</td>\n",
       "      <td>NaN</td>\n",
       "      <td>NaN</td>\n",
       "      <td>NaN</td>\n",
       "      <td>NaN</td>\n",
       "      <td>NaN</td>\n",
       "      <td>204.000</td>\n",
       "      <td>87.000</td>\n",
       "      <td>3.000</td>\n",
       "      <td>7.000</td>\n",
       "      <td>0.000</td>\n",
       "      <td>3134634.750</td>\n",
       "      <td>NaN</td>\n",
       "      <td>NaN</td>\n",
       "    </tr>\n",
       "    <tr>\n",
       "      <th>50%</th>\n",
       "      <td>3282269.500</td>\n",
       "      <td>7306527.500</td>\n",
       "      <td>68.769</td>\n",
       "      <td>NaN</td>\n",
       "      <td>NaN</td>\n",
       "      <td>NaN</td>\n",
       "      <td>NaN</td>\n",
       "      <td>NaN</td>\n",
       "      <td>299.000</td>\n",
       "      <td>87.000</td>\n",
       "      <td>8.000</td>\n",
       "      <td>37.000</td>\n",
       "      <td>0.000</td>\n",
       "      <td>3282269.500</td>\n",
       "      <td>NaN</td>\n",
       "      <td>NaN</td>\n",
       "    </tr>\n",
       "    <tr>\n",
       "      <th>75%</th>\n",
       "      <td>3429904.250</td>\n",
       "      <td>11246620.000</td>\n",
       "      <td>125.000</td>\n",
       "      <td>NaN</td>\n",
       "      <td>NaN</td>\n",
       "      <td>NaN</td>\n",
       "      <td>NaN</td>\n",
       "      <td>NaN</td>\n",
       "      <td>330.000</td>\n",
       "      <td>87.000</td>\n",
       "      <td>24.000</td>\n",
       "      <td>206.000</td>\n",
       "      <td>0.000</td>\n",
       "      <td>3429904.250</td>\n",
       "      <td>NaN</td>\n",
       "      <td>NaN</td>\n",
       "    </tr>\n",
       "    <tr>\n",
       "      <th>max</th>\n",
       "      <td>3577539.000</td>\n",
       "      <td>15811131.000</td>\n",
       "      <td>31937.391</td>\n",
       "      <td>NaN</td>\n",
       "      <td>NaN</td>\n",
       "      <td>NaN</td>\n",
       "      <td>NaN</td>\n",
       "      <td>NaN</td>\n",
       "      <td>540.000</td>\n",
       "      <td>102.000</td>\n",
       "      <td>10286.000</td>\n",
       "      <td>11623.000</td>\n",
       "      <td>1.000</td>\n",
       "      <td>3577539.000</td>\n",
       "      <td>NaN</td>\n",
       "      <td>NaN</td>\n",
       "    </tr>\n",
       "  </tbody>\n",
       "</table>\n",
       "</div>"
      ],
      "text/plain": [
       "        TransactionID  TransactionDT  ...  DeviceType DeviceInfo\n",
       "count      590540.000     590540.000  ...      140810     118666\n",
       "unique            nan            nan  ...           2       1786\n",
       "top               nan            nan  ...     desktop    Windows\n",
       "freq              nan            nan  ...       85165      47722\n",
       "mean      3282269.500    7372311.310  ...         NaN        NaN\n",
       "std        170474.358    4617223.647  ...         NaN        NaN\n",
       "min       2987000.000      86400.000  ...         NaN        NaN\n",
       "25%       3134634.750    3027057.750  ...         NaN        NaN\n",
       "50%       3282269.500    7306527.500  ...         NaN        NaN\n",
       "75%       3429904.250   11246620.000  ...         NaN        NaN\n",
       "max       3577539.000   15811131.000  ...         NaN        NaN\n",
       "\n",
       "[11 rows x 16 columns]"
      ]
     },
     "execution_count": 16,
     "metadata": {
      "tags": []
     },
     "output_type": "execute_result"
    }
   ],
   "source": [
    "# statistical distribution\n",
    "train_df_known.describe(include='all')"
   ]
  },
  {
   "cell_type": "markdown",
   "metadata": {
    "colab_type": "text",
    "id": "Ia_9e-GNUfyg"
   },
   "source": [
    "## Part 1 - Fraudulent vs Non-Fraudulent Transaction"
   ]
  },
  {
   "cell_type": "code",
   "execution_count": 0,
   "metadata": {
    "colab": {},
    "colab_type": "code",
    "id": "g2jXYl5IUfyh"
   },
   "outputs": [],
   "source": [
    "# TODO: code and runtime results\n",
    "\n",
    "# distributions of \n",
    "#     'TransactionDT',\n",
    "#     'TransactionAmt',\n",
    "#     'ProductCD',\n",
    "#     'card4',\n",
    "#     'card6',\n",
    "#     'P_emaildomain',\n",
    "#     'R_emaildomain',\n",
    "#     'addr1',\n",
    "#     'addr2',\n",
    "#     'dist1',\n",
    "#     'dist2',\n",
    "#     'isFraud',\n",
    "#     'TransactionID',\n",
    "#     'DeviceType',\n",
    "#     'DeviceInfo'"
   ]
  },
  {
   "cell_type": "markdown",
   "metadata": {
    "colab_type": "text",
    "id": "oFte9k09it9_"
   },
   "source": [
    "**fraud vs non fraud**"
   ]
  },
  {
   "cell_type": "code",
   "execution_count": 18,
   "metadata": {
    "colab": {
     "base_uri": "https://localhost:8080/",
     "height": 318
    },
    "colab_type": "code",
    "id": "g1PW6RZbUfyN",
    "outputId": "594799e4-7efc-4d89-bcc2-8696c97cae30"
   },
   "outputs": [
    {
     "name": "stdout",
     "output_type": "stream",
     "text": [
      "fraud data 20663 non_fraud data 569877\n"
     ]
    },
    {
     "data": {
      "text/plain": [
       "<matplotlib.axes._subplots.AxesSubplot at 0x7ffa750bc0f0>"
      ]
     },
     "execution_count": 18,
     "metadata": {
      "tags": []
     },
     "output_type": "execute_result"
    },
    {
     "data": {
      "image/png": "[encoded data removed]",
      "text/plain": [
       "<Figure size 432x288 with 1 Axes>"
      ]
     },
     "metadata": {
      "tags": []
     },
     "output_type": "display_data"
    }
   ],
   "source": [
    "# separated fraud and non fraud data\n",
    "fraud_df_known = train_df_known[train_df_known['isFraud'] == 1].drop('isFraud',1)\n",
    "non_fraud_df_known = train_df_known[train_df_known['isFraud'] == 0].drop('isFraud',1)\n",
    "print(\"fraud data\",len(fraud_df_known), \"non_fraud data\",len(non_fraud_df_known))\n",
    "\n",
    "temp_df = train_df_known.copy()\n",
    "temp_df['isFraud'] = train_df_known['isFraud'].replace({1:'fraud', 0:'not fraud'})\n",
    "sns.countplot(x = 'isFraud', data=temp_df, hue='isFraud')"
   ]
  },
  {
   "cell_type": "markdown",
   "metadata": {
    "colab_type": "text",
    "id": "dbOoGX-a1v12"
   },
   "source": [
    "So it is a biased distribution as fraud data is very less compared to non fraud."
   ]
  },
  {
   "cell_type": "markdown",
   "metadata": {
    "colab_type": "text",
    "id": "Z6E3Oyh8TUvg"
   },
   "source": [
    "**TransactionDT Distribution**"
   ]
  },
  {
   "cell_type": "code",
   "execution_count": 19,
   "metadata": {
    "colab": {
     "base_uri": "https://localhost:8080/",
     "height": 283
    },
    "colab_type": "code",
    "id": "ttuGhya9TWub",
    "outputId": "685f4e5c-b6c9-4071-fbc8-a916c4550bd5"
   },
   "outputs": [
    {
     "data": {
      "image/png": "[encoded data removed]",
      "text/plain": [
       "<Figure size 432x288 with 1 Axes>"
      ]
     },
     "metadata": {
      "tags": []
     },
     "output_type": "display_data"
    }
   ],
   "source": [
    "column = 'TransactionDT'\n",
    "temp_df = train_df_known[[column, 'isFraud']]\n",
    "temp_df[column] /= (60*60) # from seconds to hours\n",
    "\n",
    "temp_df_f = temp_df[temp_df['isFraud'] == 1]\n",
    "temp_df_nf = temp_df[temp_df['isFraud'] == 0]\n",
    "\n",
    "sns.distplot(temp_df_f[column], label='fraud', hist=False)\n",
    "# plt.legend()\n",
    "# plt.show()\n",
    "\n",
    "sns.distplot(temp_df_nf[column], label='non fraud', hist=False)\n",
    "plt.legend()\n",
    "plt.xlabel('Hours')\n",
    "plt.show()"
   ]
  },
  {
   "cell_type": "markdown",
   "metadata": {
    "colab_type": "text",
    "id": "2hKfTeiSEP_P"
   },
   "source": [
    "This says fraud transactions were "
   ]
  },
  {
   "cell_type": "markdown",
   "metadata": {
    "colab_type": "text",
    "id": "AAiq1XS3fV-J"
   },
   "source": [
    "**TransactionAmt Distribution**"
   ]
  },
  {
   "cell_type": "code",
   "execution_count": 20,
   "metadata": {
    "colab": {
     "base_uri": "https://localhost:8080/",
     "height": 283
    },
    "colab_type": "code",
    "id": "3Jhs6DUefXlA",
    "outputId": "0fb0103c-da66-4315-dd90-2bf4fc4983a4"
   },
   "outputs": [
    {
     "data": {
      "image/png": "[encoded data removed]",
      "text/plain": [
       "<Figure size 432x288 with 1 Axes>"
      ]
     },
     "metadata": {
      "tags": []
     },
     "output_type": "display_data"
    }
   ],
   "source": [
    "column = 'TransactionAmt'\n",
    "temp_df = train_df_known[[column, 'isFraud']]\n",
    "\n",
    "temp_df_f = temp_df[temp_df['isFraud'] == 1]\n",
    "temp_df_nf = temp_df[temp_df['isFraud'] == 0]\n",
    "\n",
    "fig, ax = plt.subplots()\n",
    "sns.distplot(temp_df_f[column], label='fraud', hist=False)\n",
    "ax.set_xlim(-5,2500)\n",
    "# plt.legend()\n",
    "# plt.show()\n",
    "\n",
    "# fig, ax = plt.subplots()\n",
    "sns.distplot(temp_df_nf[column], label='non fraud', hist=False)\n",
    "ax.set_xlim(-5,1200)\n",
    "\n",
    "plt.legend()\n",
    "plt.show()"
   ]
  },
  {
   "cell_type": "markdown",
   "metadata": {
    "colab_type": "text",
    "id": "yJKuG1RqFq-v"
   },
   "source": []
  },
  {
   "cell_type": "markdown",
   "metadata": {
    "colab_type": "text",
    "id": "Lmp2RCNCgTx_"
   },
   "source": [
    "**ProductCD Distribution**"
   ]
  },
  {
   "cell_type": "code",
   "execution_count": 21,
   "metadata": {
    "colab": {
     "base_uri": "https://localhost:8080/",
     "height": 301
    },
    "colab_type": "code",
    "id": "Cn3Y95JegXS2",
    "outputId": "f406fb92-68df-4a30-cd7c-c6a6bf9afdf5"
   },
   "outputs": [
    {
     "data": {
      "text/plain": [
       "<matplotlib.legend.Legend at 0x7ffa4ebb8240>"
      ]
     },
     "execution_count": 21,
     "metadata": {
      "tags": []
     },
     "output_type": "execute_result"
    },
    {
     "data": {
      "image/png": "[encoded data removed]",
      "text/plain": [
       "<Figure size 432x288 with 1 Axes>"
      ]
     },
     "metadata": {
      "tags": []
     },
     "output_type": "display_data"
    }
   ],
   "source": [
    "column = 'ProductCD'\n",
    "temp_df = train_df_known[[column, 'isFraud']]\n",
    "\n",
    "temp_df['isFraud'] = temp_df['isFraud'].replace({1:'fraud', 0:'not fraud'})\n",
    "\n",
    "sns.countplot(x = column, data = temp_df, hue = 'isFraud')\n",
    "plt.legend()"
   ]
  },
  {
   "cell_type": "markdown",
   "metadata": {
    "colab_type": "text",
    "id": "iC0HF6shFrnp"
   },
   "source": [
    "Products having code of W are purchased more and so having fradulent transactions more but at the same time having less transactions also product code C is getting significant amount of fraudulent transactions."
   ]
  },
  {
   "cell_type": "markdown",
   "metadata": {
    "colab_type": "text",
    "id": "eEZE_kkIiz0m"
   },
   "source": [
    "**card4 Distribution**"
   ]
  },
  {
   "cell_type": "code",
   "execution_count": 22,
   "metadata": {
    "colab": {
     "base_uri": "https://localhost:8080/",
     "height": 301
    },
    "colab_type": "code",
    "id": "YAYfTot0jJPs",
    "outputId": "033dd92e-a9e1-46c4-c6b7-4da19fa4a2a2"
   },
   "outputs": [
    {
     "data": {
      "text/plain": [
       "<matplotlib.legend.Legend at 0x7ffa4ef32a90>"
      ]
     },
     "execution_count": 22,
     "metadata": {
      "tags": []
     },
     "output_type": "execute_result"
    },
    {
     "data": {
      "image/png": "[encoded data removed]",
      "text/plain": [
       "<Figure size 432x288 with 1 Axes>"
      ]
     },
     "metadata": {
      "tags": []
     },
     "output_type": "display_data"
    }
   ],
   "source": [
    "column = 'card4'\n",
    "temp_df = train_df_known[[column, 'isFraud']]\n",
    "\n",
    "temp_df['isFraud'] = temp_df['isFraud'].replace({1:'fraud', 0:'not fraud'})\n",
    "\n",
    "ax = sns.countplot(x = column, data = temp_df, hue = 'isFraud')\n",
    "ax.set(yscale = 'log')\n",
    "plt.ylabel('log of count')\n",
    "plt.legend()"
   ]
  },
  {
   "cell_type": "markdown",
   "metadata": {
    "colab_type": "text",
    "id": "4Fxd9wXsGLLK"
   },
   "source": [
    "Cards mastercard and visa covers majority of both data fraudlent and non fraudelnt. However discover card is having a good ratio of fraudulent and non fraudulent data compared american express card."
   ]
  },
  {
   "cell_type": "markdown",
   "metadata": {
    "colab_type": "text",
    "id": "RVJxUMdLi2v6"
   },
   "source": [
    "**card6 Distribution**"
   ]
  },
  {
   "cell_type": "code",
   "execution_count": 23,
   "metadata": {
    "colab": {
     "base_uri": "https://localhost:8080/",
     "height": 389
    },
    "colab_type": "code",
    "id": "HU9RqtJAjTwN",
    "outputId": "7a7092da-7f52-4969-9332-3339f839b1ba"
   },
   "outputs": [
    {
     "name": "stdout",
     "output_type": "stream",
     "text": [
      "debit              439938\n",
      "credit             148986\n",
      "debit or credit        30\n",
      "charge card            15\n",
      "Name: card6, dtype: int64\n"
     ]
    },
    {
     "data": {
      "text/plain": [
       "<matplotlib.legend.Legend at 0x7ffa4f6235c0>"
      ]
     },
     "execution_count": 23,
     "metadata": {
      "tags": []
     },
     "output_type": "execute_result"
    },
    {
     "data": {
      "image/png": "[encoded data removed]",
      "text/plain": [
       "<Figure size 432x288 with 1 Axes>"
      ]
     },
     "metadata": {
      "tags": []
     },
     "output_type": "display_data"
    }
   ],
   "source": [
    "column = 'card6'\n",
    "temp_df = train_df_known[[column, 'isFraud']]\n",
    "\n",
    "temp_df['isFraud'] = temp_df['isFraud'].replace({1:'fraud', 0:'not fraud'})\n",
    "\n",
    "print(temp_df[column].value_counts())\n",
    "\n",
    "ax = sns.countplot(x = column, data = temp_df, hue = 'isFraud')\n",
    "plt.legend()"
   ]
  },
  {
   "cell_type": "markdown",
   "metadata": {
    "colab_type": "text",
    "id": "sXcETfBYG2In"
   },
   "source": [
    "Here 'debit or credit' and 'charge card' are having negligible data compared to other cards, so these both cards can be merged into a category called 'other cards' which may help while training because of having 1 less category."
   ]
  },
  {
   "cell_type": "markdown",
   "metadata": {
    "colab_type": "text",
    "id": "q-Gc9E3Pi5Vi"
   },
   "source": [
    "**P_emaildomain Distribution**"
   ]
  },
  {
   "cell_type": "code",
   "execution_count": 24,
   "metadata": {
    "colab": {
     "base_uri": "https://localhost:8080/",
     "height": 441
    },
    "colab_type": "code",
    "id": "7GmARa_hjX4u",
    "outputId": "82abc995-ca2d-492a-f8b0-525f5c121e1b"
   },
   "outputs": [
    {
     "name": "stdout",
     "output_type": "stream",
     "text": [
      "count        496084\n",
      "unique           59\n",
      "top       gmail.com\n",
      "freq         228355\n",
      "Name: P_emaildomain, dtype: object\n"
     ]
    },
    {
     "data": {
      "text/plain": [
       "<matplotlib.legend.Legend at 0x7ffa4f63b550>"
      ]
     },
     "execution_count": 24,
     "metadata": {
      "tags": []
     },
     "output_type": "execute_result"
    },
    {
     "data": {
      "image/png": "[encoded data removed]",
      "text/plain": [
       "<Figure size 432x288 with 1 Axes>"
      ]
     },
     "metadata": {
      "tags": []
     },
     "output_type": "display_data"
    }
   ],
   "source": [
    "column = 'P_emaildomain'\n",
    "temp_df = train_df_known[[column, 'isFraud']]\n",
    "\n",
    "temp_df['isFraud'] = temp_df['isFraud'].replace({1:'fraud', 0:'not fraud'})\n",
    "\n",
    "print(temp_df[column].describe())\n",
    "temp_df = temp_df.apply(lambda x: x.mask(x.map(x.value_counts())<x.value_counts().mean()*0.9, 'others'))\n",
    "\n",
    "ax = sns.countplot(x = column, data = temp_df, hue = 'isFraud')\n",
    "ax.set_xticklabels(ax.get_xticklabels(), rotation=40, ha=\"right\")\n",
    "ax.set_ylim(0,120000)\n",
    "\n",
    "plt.legend()"
   ]
  },
  {
   "cell_type": "markdown",
   "metadata": {
    "colab_type": "text",
    "id": "P7r6N8XKJASW"
   },
   "source": [
    "This feature consists of many categories but data is centered to few categories only. So it is okay to merge less frequent categories as 'others'. However gmail is most frequent category here."
   ]
  },
  {
   "cell_type": "markdown",
   "metadata": {
    "colab_type": "text",
    "id": "gQOlF7Sji8EG"
   },
   "source": [
    "**R_emaildomain Distribution**"
   ]
  },
  {
   "cell_type": "code",
   "execution_count": 25,
   "metadata": {
    "colab": {
     "base_uri": "https://localhost:8080/",
     "height": 352
    },
    "colab_type": "code",
    "id": "1kZ4Gtohm2rs",
    "outputId": "f77fbd99-2432-449d-9654-d6203305f241"
   },
   "outputs": [
    {
     "data": {
      "text/plain": [
       "<matplotlib.legend.Legend at 0x7ffa4fc36ac8>"
      ]
     },
     "execution_count": 25,
     "metadata": {
      "tags": []
     },
     "output_type": "execute_result"
    },
    {
     "data": {
      "image/png": "[encoded data removed]",
      "text/plain": [
       "<Figure size 432x288 with 1 Axes>"
      ]
     },
     "metadata": {
      "tags": []
     },
     "output_type": "display_data"
    }
   ],
   "source": [
    "column = 'R_emaildomain'\n",
    "temp_df = train_df_known[[column, 'isFraud']]\n",
    "\n",
    "temp_df['isFraud'] = temp_df['isFraud'].replace({1:'fraud', 0:'not fraud'})\n",
    "\n",
    "temp_df = temp_df.apply(lambda x: x.mask(x.map(x.value_counts())<x.value_counts().mean()*0.9, 'others'))\n",
    "\n",
    "ax = sns.countplot(x = column, data = temp_df, hue = 'isFraud')\n",
    "ax.set_xticklabels(ax.get_xticklabels(), rotation=40, ha=\"right\")\n",
    "ax.set_ylim(0,55000)\n",
    "plt.legend()"
   ]
  },
  {
   "cell_type": "markdown",
   "metadata": {
    "colab_type": "text",
    "id": "TfTna3gSLrXw"
   },
   "source": [
    "Same is done with P_emaildomain because of same reason and again gmail is surpassing other categories."
   ]
  },
  {
   "cell_type": "markdown",
   "metadata": {
    "colab_type": "text",
    "id": "XP5GsE33i-uU"
   },
   "source": [
    "**addr1 Distribution**"
   ]
  },
  {
   "cell_type": "code",
   "execution_count": 26,
   "metadata": {
    "colab": {
     "base_uri": "https://localhost:8080/",
     "height": 269
    },
    "colab_type": "code",
    "id": "mFz5MlFbnYl1",
    "outputId": "5a6b48ef-46a1-4313-9f6c-b403079f5151"
   },
   "outputs": [
    {
     "data": {
      "image/png": "[encoded data removed]",
      "text/plain": [
       "<Figure size 432x288 with 1 Axes>"
      ]
     },
     "metadata": {
      "tags": []
     },
     "output_type": "display_data"
    }
   ],
   "source": [
    "column = 'addr1'\n",
    "temp_df = train_df_known[[column, 'isFraud']].dropna()\n",
    "# temp_df[column] = temp_df[column].astype(np.uint8)\n",
    "\n",
    "temp_df_f = temp_df[temp_df['isFraud'] == 1]\n",
    "temp_df_nf = temp_df[temp_df['isFraud'] == 0]\n",
    "\n",
    "fig, ax = plt.subplots()\n",
    "sns.distplot(temp_df_f[column].tolist(), label='fraud', hist = False)\n",
    "# ax.set_xlim(-5,1000)\n",
    "# temp_df_f[column].hist(label='fraud')\n",
    "# plt.legend()\n",
    "# plt.show()\n",
    "\n",
    "# fig, ax = plt.subplots()\n",
    "sns.distplot(temp_df_nf[column].tolist(), label='non fraud', hist = False)\n",
    "# ax.set_xlim(-5,2500)\n",
    "plt.legend()\n",
    "plt.show()"
   ]
  },
  {
   "cell_type": "markdown",
   "metadata": {
    "colab_type": "text",
    "id": "OHk238PSL_14"
   },
   "source": [
    "Both fraud and non fraud data looks quite similar distributed and whatever difference is there will be taken care by model."
   ]
  },
  {
   "cell_type": "markdown",
   "metadata": {
    "colab_type": "text",
    "id": "lms2EbC-jBM9"
   },
   "source": [
    "**addr2 Distribution**"
   ]
  },
  {
   "cell_type": "code",
   "execution_count": 27,
   "metadata": {
    "colab": {
     "base_uri": "https://localhost:8080/",
     "height": 269
    },
    "colab_type": "code",
    "id": "kSHQkfYqoWSE",
    "outputId": "7bd7d505-8971-45dc-ebd1-bb4a83fbcf50"
   },
   "outputs": [
    {
     "data": {
      "image/png": "[encoded data removed]",
      "text/plain": [
       "<Figure size 432x288 with 1 Axes>"
      ]
     },
     "metadata": {
      "tags": []
     },
     "output_type": "display_data"
    }
   ],
   "source": [
    "column = 'addr2'\n",
    "temp_df = train_df_known[[column, 'isFraud']].dropna()\n",
    "# temp_df[column] = temp_df[column].astype(np.uint8)\n",
    "\n",
    "temp_df_f = temp_df[temp_df['isFraud'] == 1]\n",
    "temp_df_nf = temp_df[temp_df['isFraud'] == 0]\n",
    "\n",
    "fig, ax = plt.subplots()\n",
    "sns.distplot(temp_df_f[column].tolist(), label='fraud', hist = False)\n",
    "# ax.set_xlim(80,100)\n",
    "# plt.legend()\n",
    "# plt.show()\n",
    "\n",
    "# fig, ax = plt.subplots()\n",
    "sns.distplot(temp_df_nf[column].tolist(), label='non fraud', hist = False)\n",
    "ax.set_xlim(80,100)\n",
    "plt.legend()\n",
    "plt.show()"
   ]
  },
  {
   "cell_type": "markdown",
   "metadata": {
    "colab_type": "text",
    "id": "MviBQ_3VMY1Z"
   },
   "source": [
    "Here also both fraud and non fraud categories looks similarly distributed however these distributions are suffereing from outliers."
   ]
  },
  {
   "cell_type": "markdown",
   "metadata": {
    "colab_type": "text",
    "id": "nutCI0IajD1x"
   },
   "source": [
    "**dist1 Distribution**"
   ]
  },
  {
   "cell_type": "code",
   "execution_count": 28,
   "metadata": {
    "colab": {
     "base_uri": "https://localhost:8080/",
     "height": 584
    },
    "colab_type": "code",
    "id": "JfioXG1YoleF",
    "outputId": "fbe9b8b8-beb2-4d89-d1c8-1191613128c4"
   },
   "outputs": [
    {
     "data": {
      "image/png": "[encoded data removed]",
      "text/plain": [
       "<Figure size 432x288 with 1 Axes>"
      ]
     },
     "metadata": {
      "tags": []
     },
     "output_type": "display_data"
    },
    {
     "data": {
      "image/png": "[encoded data removed]",
      "text/plain": [
       "<Figure size 432x288 with 1 Axes>"
      ]
     },
     "metadata": {
      "tags": []
     },
     "output_type": "display_data"
    },
    {
     "name": "stdout",
     "output_type": "stream",
     "text": [
      "Fraud max 4942\n",
      "Non Fraud max 10286\n"
     ]
    }
   ],
   "source": [
    "column = 'dist1'\n",
    "temp_df = train_df_known[[column, 'isFraud']].dropna()\n",
    "# temp_df[column] = temp_df[column].astype(np.uint8)\n",
    "\n",
    "temp_df_f = temp_df[temp_df['isFraud'] == 1]\n",
    "temp_df_nf = temp_df[temp_df['isFraud'] == 0]\n",
    "\n",
    "fig, ax = plt.subplots()\n",
    "sns.distplot(temp_df_f[column].tolist(), label='fraud', hist = False)\n",
    "# ax.set_xlim(0,1200)\n",
    "# plt.legend()\n",
    "# plt.show()\n",
    "\n",
    "# fig, ax = plt.subplots()\n",
    "sns.distplot(temp_df_nf[column].tolist(), label='non fraud', hist = False)\n",
    "ax.set_xlim(0,1200)\n",
    "plt.legend()\n",
    "plt.xlabel('Dist1')\n",
    "plt.show()\n",
    "\n",
    "fig, ax = plt.subplots()\n",
    "sns.distplot(temp_df_f[column].tolist(), label='fraud', hist = False)\n",
    "\n",
    "sns.distplot(temp_df_nf[column].tolist(), label='non fraud', hist = False)\n",
    "\n",
    "plt.legend()\n",
    "plt.xlabel('Dist1')\n",
    "plt.show()\n",
    "\n",
    "print('Fraud max',temp_df_f[column].max())\n",
    "print('Non Fraud max',temp_df_nf[column].max())"
   ]
  },
  {
   "cell_type": "markdown",
   "metadata": {
    "colab_type": "text",
    "id": "eS-yLF9tMrzy"
   },
   "source": [
    "I have added 2 distributions plots here both are of same data but because of outliers I have limited the view to some data in first plot. Both fraud and non fraud data are having outliers at 4942 and 10286 respectively. "
   ]
  },
  {
   "cell_type": "markdown",
   "metadata": {
    "colab_type": "text",
    "id": "UarGcBhPjGdm"
   },
   "source": [
    "**dist2 Distribution**"
   ]
  },
  {
   "cell_type": "code",
   "execution_count": 29,
   "metadata": {
    "colab": {
     "base_uri": "https://localhost:8080/",
     "height": 584
    },
    "colab_type": "code",
    "id": "Fgg4SC8goz6k",
    "outputId": "b169968a-c30f-4787-8e6c-5397c43296b5"
   },
   "outputs": [
    {
     "data": {
      "image/png": "[encoded data removed]",
      "text/plain": [
       "<Figure size 432x288 with 1 Axes>"
      ]
     },
     "metadata": {
      "tags": []
     },
     "output_type": "display_data"
    },
    {
     "data": {
      "image/png": "[encoded data removed]",
      "text/plain": [
       "<Figure size 432x288 with 1 Axes>"
      ]
     },
     "metadata": {
      "tags": []
     },
     "output_type": "display_data"
    },
    {
     "name": "stdout",
     "output_type": "stream",
     "text": [
      "max of non fraud distribution 11623\n",
      "mean of non fraud distribution 235.19975808354968\n"
     ]
    }
   ],
   "source": [
    "column = 'dist2'\n",
    "temp_df = train_df_known[[column, 'isFraud']].dropna()\n",
    "# temp_df[column] = temp_df[column].astype(np.uint8)\n",
    "\n",
    "temp_df_f = temp_df[temp_df['isFraud'] == 1]\n",
    "temp_df_nf = temp_df[temp_df['isFraud'] == 0]\n",
    "\n",
    "fig, ax = plt.subplots()\n",
    "sns.distplot(temp_df_f[column].tolist(), label='fraud', hist=False)\n",
    "# ax.set_xlim(0,1200)\n",
    "# plt.legend()\n",
    "# plt.show()\n",
    "\n",
    "# fig, ax = plt.subplots()\n",
    "sns.distplot(temp_df_nf[column].tolist(), label='non fraud', hist=False)\n",
    "# ax.set_xlim(0,1200)\n",
    "plt.legend()\n",
    "plt.xlabel('dist2')\n",
    "plt.show()\n",
    "\n",
    "fig, ax = plt.subplots()\n",
    "sns.distplot(temp_df_f[column].tolist(), label='fraud', hist=False)\n",
    "# ax.set_xlim(0,1200)\n",
    "# plt.legend()\n",
    "# plt.show()\n",
    "\n",
    "# fig, ax = plt.subplots()\n",
    "sns.distplot(temp_df_nf[column].tolist(), label='non fraud', hist=False)\n",
    "ax.set_xlim(0,1200)\n",
    "plt.legend()\n",
    "plt.xlabel('dist2')\n",
    "plt.show()\n",
    "\n",
    "\n",
    "print(\"max of non fraud distribution\", temp_df_nf[column].max())\n",
    "print(\"mean of non fraud distribution\", temp_df_nf[column].mean())"
   ]
  },
  {
   "cell_type": "markdown",
   "metadata": {
    "colab_type": "text",
    "id": "GMZxzTdaOrUc"
   },
   "source": [
    "Both fraud and non fraud distributions are almost similar, but fraud is leading in begining so we can assume that in lower values of dist2, chances of fraudulent transactions will be higher so this can be a helpful feature while training. This distribution is also having outliers."
   ]
  },
  {
   "cell_type": "markdown",
   "metadata": {
    "colab_type": "text",
    "id": "Bdb5icWEKmDx"
   },
   "source": [
    "**DeviceType Distribution**"
   ]
  },
  {
   "cell_type": "code",
   "execution_count": 30,
   "metadata": {
    "colab": {
     "base_uri": "https://localhost:8080/",
     "height": 324
    },
    "colab_type": "code",
    "id": "1c_m3dgzKoCH",
    "outputId": "1d96e168-0866-450c-e13f-c970d11cb3e1"
   },
   "outputs": [
    {
     "data": {
      "text/plain": [
       "<matplotlib.legend.Legend at 0x7ffa4f61ddd8>"
      ]
     },
     "execution_count": 30,
     "metadata": {
      "tags": []
     },
     "output_type": "execute_result"
    },
    {
     "data": {
      "image/png": "[encoded data removed]",
      "text/plain": [
       "<Figure size 432x288 with 1 Axes>"
      ]
     },
     "metadata": {
      "tags": []
     },
     "output_type": "display_data"
    }
   ],
   "source": [
    "column = 'DeviceType'\n",
    "temp_df = train_df_known[[column, 'isFraud']]\n",
    "\n",
    "temp_df['isFraud'] = temp_df['isFraud'].replace({1:'fraud', 0:'not fraud'})\n",
    "\n",
    "# temp_df = temp_df.apply(lambda x: x.mask(x.map(x.value_counts())<x.value_counts().mean()*0.9, 'others'))\n",
    "\n",
    "ax = sns.countplot(x = column, data = temp_df, hue = 'isFraud')\n",
    "ax.set_xticklabels(ax.get_xticklabels(), rotation=40, ha=\"right\")\n",
    "# ax.set_ylim(0,55000)\n",
    "plt.legend()"
   ]
  },
  {
   "cell_type": "markdown",
   "metadata": {
    "colab_type": "text",
    "id": "cZCgIKNQPrT6"
   },
   "source": [
    " For fraud and non fraud categories, both mobile and desktop are somewhat equally distributed however dekstop leas in non fraud data with a good amount."
   ]
  },
  {
   "cell_type": "markdown",
   "metadata": {
    "colab_type": "text",
    "id": "nwbAhkNPK3aO"
   },
   "source": [
    "**DeviceInfo Distribution**"
   ]
  },
  {
   "cell_type": "code",
   "execution_count": 31,
   "metadata": {
    "colab": {
     "base_uri": "https://localhost:8080/",
     "height": 334
    },
    "colab_type": "code",
    "id": "MWM2GiaYK4m-",
    "outputId": "29004f54-e3be-46d4-9865-45ec2eb74713"
   },
   "outputs": [
    {
     "data": {
      "text/plain": [
       "<matplotlib.legend.Legend at 0x7ffa4f2d8710>"
      ]
     },
     "execution_count": 31,
     "metadata": {
      "tags": []
     },
     "output_type": "execute_result"
    },
    {
     "data": {
      "image/png": "[encoded data removed]",
      "text/plain": [
       "<Figure size 432x288 with 1 Axes>"
      ]
     },
     "metadata": {
      "tags": []
     },
     "output_type": "display_data"
    }
   ],
   "source": [
    "column = 'DeviceInfo'\n",
    "temp_df = train_df_known[[column, 'isFraud']]\n",
    "\n",
    "temp_df['isFraud'] = temp_df['isFraud'].replace({1:'fraud', 0:'not fraud'})\n",
    "\n",
    "fifth_max = temp_df[column].value_counts().nlargest(5)[4]\n",
    "temp_df = temp_df.apply(lambda x: x.mask(x.map(x.value_counts()) < fifth_max, 'others'))\n",
    "\n",
    "ax = sns.countplot(x = column, data = temp_df, hue = 'isFraud')\n",
    "ax.set_xticklabels(ax.get_xticklabels(), rotation=40, ha=\"right\")\n",
    "# ax.set_ylim(0,55000)\n",
    "plt.legend()"
   ]
  },
  {
   "cell_type": "markdown",
   "metadata": {
    "colab_type": "text",
    "id": "UThVPlXoRDaD"
   },
   "source": [
    "This feature is having too many categories and average frequency value is also affected because of this. Other than top 5 most frequent categories are merged in others to show distribution."
   ]
  },
  {
   "cell_type": "markdown",
   "metadata": {
    "colab_type": "text",
    "id": "L2lYIvM7Ufym"
   },
   "source": [
    "## Part 2 - Transaction Frequency"
   ]
  },
  {
   "cell_type": "code",
   "execution_count": 32,
   "metadata": {
    "colab": {
     "base_uri": "https://localhost:8080/",
     "height": 395
    },
    "colab_type": "code",
    "id": "mtEpp_ESUfyn",
    "outputId": "5d30c410-a6d2-45e6-ad70-b8d87df2732f"
   },
   "outputs": [
    {
     "name": "stdout",
     "output_type": "stream",
     "text": [
      "spearman coefficient                 TransactionDT  TransactionAmt\n",
      "TransactionDT           1.000           0.640\n",
      "TransactionAmt          0.640           1.000\n",
      "pearson coefficient                 TransactionDT  TransactionAmt\n",
      "TransactionDT           1.000           0.651\n",
      "TransactionAmt          0.651           1.000\n"
     ]
    },
    {
     "data": {
      "text/plain": [
       "<Figure size 432x288 with 0 Axes>"
      ]
     },
     "metadata": {
      "tags": []
     },
     "output_type": "display_data"
    },
    {
     "data": {
      "image/png": "[encoded data removed]",
      "text/plain": [
       "<Figure size 432x288 with 1 Axes>"
      ]
     },
     "metadata": {
      "tags": []
     },
     "output_type": "display_data"
    }
   ],
   "source": [
    "# TODO: code to generate the frequency graph\n",
    "\n",
    "tempAddr2 = train_df['addr2'].dropna()\n",
    "max_addr2 = tempAddr2.value_counts().idxmax()\n",
    "\n",
    "temp = train_df[['TransactionDT','TransactionAmt','addr2']]\n",
    "temp = temp[temp.addr2 == max_addr2]\n",
    "temp = temp[['TransactionDT','TransactionAmt']]\n",
    "temp['TransactionDT'] /= (60*60)\n",
    "temp['TransactionDT'] = (temp['TransactionDT']%24).astype(np.uint8)\n",
    "plt.figure()\n",
    "df = temp.groupby(['TransactionDT'], as_index=False).sum()\n",
    "df.plot(kind='bar', legend=None)\n",
    "\n",
    "pearson_df = df.corr('pearson')\n",
    "spearman_df = df.corr('spearman')\n",
    "\n",
    "print('spearman coefficient', spearman_df)\n",
    "print('pearson coefficient', pearson_df)"
   ]
  },
  {
   "cell_type": "markdown",
   "metadata": {
    "colab_type": "text",
    "id": "9rakmS4nUfyp"
   },
   "source": [
    "Using most frequenct country code, here is the distribution. Transaction frequency and hour of the day looks quite correlated. From the distributions, we can infer that from 10 to 18 which is a afternoon time Transaction frequency keeps on increasing and from evening to next day morning it keeps on decreasing. Most transactions are done in evening and night time only."
   ]
  },
  {
   "cell_type": "markdown",
   "metadata": {
    "colab_type": "text",
    "id": "V0zlyE2OUfyq"
   },
   "source": [
    "## Part 3 - Product Code"
   ]
  },
  {
   "cell_type": "code",
   "execution_count": 33,
   "metadata": {
    "colab": {
     "base_uri": "https://localhost:8080/",
     "height": 787
    },
    "colab_type": "code",
    "id": "Llj4b_e4Ufyr",
    "outputId": "e8c12864-0a52-4088-da75-02a06eec1e7f"
   },
   "outputs": [
    {
     "data": {
      "text/html": [
       "<div>\n",
       "<style scoped>\n",
       "    .dataframe tbody tr th:only-of-type {\n",
       "        vertical-align: middle;\n",
       "    }\n",
       "\n",
       "    .dataframe tbody tr th {\n",
       "        vertical-align: top;\n",
       "    }\n",
       "\n",
       "    .dataframe thead th {\n",
       "        text-align: right;\n",
       "    }\n",
       "</style>\n",
       "<table border=\"1\" class=\"dataframe\">\n",
       "  <thead>\n",
       "    <tr style=\"text-align: right;\">\n",
       "      <th></th>\n",
       "      <th>TransactionAmt</th>\n",
       "      <th>ProductCD</th>\n",
       "    </tr>\n",
       "  </thead>\n",
       "  <tbody>\n",
       "    <tr>\n",
       "      <th>374299</th>\n",
       "      <td>0.251</td>\n",
       "      <td>C</td>\n",
       "    </tr>\n",
       "    <tr>\n",
       "      <th>367961</th>\n",
       "      <td>0.272</td>\n",
       "      <td>C</td>\n",
       "    </tr>\n",
       "    <tr>\n",
       "      <th>205872</th>\n",
       "      <td>0.292</td>\n",
       "      <td>C</td>\n",
       "    </tr>\n",
       "    <tr>\n",
       "      <th>205393</th>\n",
       "      <td>0.350</td>\n",
       "      <td>C</td>\n",
       "    </tr>\n",
       "    <tr>\n",
       "      <th>492354</th>\n",
       "      <td>0.364</td>\n",
       "      <td>C</td>\n",
       "    </tr>\n",
       "    <tr>\n",
       "      <th>572465</th>\n",
       "      <td>1.000</td>\n",
       "      <td>W</td>\n",
       "    </tr>\n",
       "    <tr>\n",
       "      <th>62617</th>\n",
       "      <td>2.000</td>\n",
       "      <td>W</td>\n",
       "    </tr>\n",
       "    <tr>\n",
       "      <th>2759</th>\n",
       "      <td>3.500</td>\n",
       "      <td>W</td>\n",
       "    </tr>\n",
       "    <tr>\n",
       "      <th>116878</th>\n",
       "      <td>4.000</td>\n",
       "      <td>W</td>\n",
       "    </tr>\n",
       "    <tr>\n",
       "      <th>447596</th>\n",
       "      <td>4.970</td>\n",
       "      <td>W</td>\n",
       "    </tr>\n",
       "    <tr>\n",
       "      <th>83536</th>\n",
       "      <td>5.000</td>\n",
       "      <td>S</td>\n",
       "    </tr>\n",
       "    <tr>\n",
       "      <th>48542</th>\n",
       "      <td>6.000</td>\n",
       "      <td>S</td>\n",
       "    </tr>\n",
       "    <tr>\n",
       "      <th>336979</th>\n",
       "      <td>7.000</td>\n",
       "      <td>S</td>\n",
       "    </tr>\n",
       "    <tr>\n",
       "      <th>574688</th>\n",
       "      <td>8.000</td>\n",
       "      <td>S</td>\n",
       "    </tr>\n",
       "    <tr>\n",
       "      <th>578764</th>\n",
       "      <td>9.000</td>\n",
       "      <td>S</td>\n",
       "    </tr>\n",
       "    <tr>\n",
       "      <th>114109</th>\n",
       "      <td>15.000</td>\n",
       "      <td>H</td>\n",
       "    </tr>\n",
       "    <tr>\n",
       "      <th>131987</th>\n",
       "      <td>23.000</td>\n",
       "      <td>H</td>\n",
       "    </tr>\n",
       "    <tr>\n",
       "      <th>441390</th>\n",
       "      <td>25.000</td>\n",
       "      <td>H</td>\n",
       "    </tr>\n",
       "    <tr>\n",
       "      <th>284298</th>\n",
       "      <td>35.000</td>\n",
       "      <td>H</td>\n",
       "    </tr>\n",
       "    <tr>\n",
       "      <th>110867</th>\n",
       "      <td>40.000</td>\n",
       "      <td>H</td>\n",
       "    </tr>\n",
       "    <tr>\n",
       "      <th>477334</th>\n",
       "      <td>125.000</td>\n",
       "      <td>R</td>\n",
       "    </tr>\n",
       "    <tr>\n",
       "      <th>51347</th>\n",
       "      <td>150.000</td>\n",
       "      <td>R</td>\n",
       "    </tr>\n",
       "    <tr>\n",
       "      <th>149364</th>\n",
       "      <td>175.000</td>\n",
       "      <td>R</td>\n",
       "    </tr>\n",
       "    <tr>\n",
       "      <th>447667</th>\n",
       "      <td>200.000</td>\n",
       "      <td>R</td>\n",
       "    </tr>\n",
       "    <tr>\n",
       "      <th>172141</th>\n",
       "      <td>225.000</td>\n",
       "      <td>R</td>\n",
       "    </tr>\n",
       "  </tbody>\n",
       "</table>\n",
       "</div>"
      ],
      "text/plain": [
       "        TransactionAmt ProductCD\n",
       "374299           0.251         C\n",
       "367961           0.272         C\n",
       "205872           0.292         C\n",
       "205393           0.350         C\n",
       "492354           0.364         C\n",
       "572465           1.000         W\n",
       "62617            2.000         W\n",
       "2759             3.500         W\n",
       "116878           4.000         W\n",
       "447596           4.970         W\n",
       "83536            5.000         S\n",
       "48542            6.000         S\n",
       "336979           7.000         S\n",
       "574688           8.000         S\n",
       "578764           9.000         S\n",
       "114109          15.000         H\n",
       "131987          23.000         H\n",
       "441390          25.000         H\n",
       "284298          35.000         H\n",
       "110867          40.000         H\n",
       "477334         125.000         R\n",
       "51347          150.000         R\n",
       "149364         175.000         R\n",
       "447667         200.000         R\n",
       "172141         225.000         R"
      ]
     },
     "execution_count": 33,
     "metadata": {
      "tags": []
     },
     "output_type": "execute_result"
    }
   ],
   "source": [
    "# TODO: code to analyze prices for different product codes\n",
    "\n",
    "train_df[['TransactionAmt', 'ProductCD']].sort_values(['TransactionAmt'],ascending=True).drop_duplicates(['TransactionAmt']).groupby(['ProductCD']).head(5)"
   ]
  },
  {
   "cell_type": "markdown",
   "metadata": {
    "colab_type": "text",
    "id": "ubywOqQ0Ufyu"
   },
   "source": [
    "R looks most expensive product code and C the cheapest product code.\n",
    "\n",
    "\n",
    "For each transaction there is a product code assigned but transaction amount changes with each transaction. So one possibility is that each transaction is made to purchase product in bulk. So I grouped by product code and sorted by transaction amount. From this output we can assume the individual price of the product from difference of transaction amount as number of products will be  integer. Based on this, approximate individual prices of products can be guessed as followed: W: 1, R: 25, C: 0.02, S:1, H: 2."
   ]
  },
  {
   "cell_type": "markdown",
   "metadata": {
    "colab_type": "text",
    "id": "4XWDg8LFUfyw"
   },
   "source": [
    "## Part 4 - Correlation Coefficient"
   ]
  },
  {
   "cell_type": "code",
   "execution_count": 34,
   "metadata": {
    "colab": {
     "base_uri": "https://localhost:8080/",
     "height": 378
    },
    "colab_type": "code",
    "id": "AUlfaFnTUfyx",
    "outputId": "9a2f8389-6a8c-49d5-9dc3-21a54167e543"
   },
   "outputs": [
    {
     "name": "stdout",
     "output_type": "stream",
     "text": [
      "spearman coefficient                 TransactionDT  TransactionAmt\n",
      "TransactionDT           1.000           0.630\n",
      "TransactionAmt          0.630           1.000\n",
      "pearson coefficient                 TransactionDT  TransactionAmt\n",
      "TransactionDT           1.000           0.642\n",
      "TransactionAmt          0.642           1.000\n"
     ]
    },
    {
     "data": {
      "image/png": "[encoded data removed]",
      "text/plain": [
       "<Figure size 432x288 with 1 Axes>"
      ]
     },
     "metadata": {
      "tags": []
     },
     "output_type": "display_data"
    }
   ],
   "source": [
    "# TODO: code to calculate correlation coefficient\n",
    "temp = train_df[['TransactionDT','TransactionAmt']]\n",
    "temp['TransactionDT'] /= (60*60)\n",
    "temp['TransactionDT'] = (temp['TransactionDT']%24).astype(np.uint8)\n",
    "df = temp.groupby(['TransactionDT'], as_index=False).sum()\n",
    "df.plot(kind='bar', legend=None)\n",
    "\n",
    "pearson_df = df.corr('pearson')\n",
    "spearman_df = df.corr('spearman')\n",
    "\n",
    "print('spearman coefficient', spearman_df)\n",
    "print('pearson coefficient', pearson_df)"
   ]
  },
  {
   "cell_type": "markdown",
   "metadata": {
    "colab_type": "text",
    "id": "747LhpciUfy1"
   },
   "source": [
    "Both spearman and pearson coefficients are 0.6 which means transaction amount is highly correlated with time in the day."
   ]
  },
  {
   "cell_type": "markdown",
   "metadata": {
    "colab_type": "text",
    "id": "OQo0JygiUfy2"
   },
   "source": [
    "## Part 5 - Interesting Plot"
   ]
  },
  {
   "cell_type": "code",
   "execution_count": 35,
   "metadata": {
    "colab": {
     "base_uri": "https://localhost:8080/",
     "height": 541
    },
    "colab_type": "code",
    "id": "xKNIfOx4Ufy3",
    "outputId": "4dab25b2-aea3-46d7-e786-5470e5c673d7"
   },
   "outputs": [
    {
     "data": {
      "image/png": "[encoded data removed]",
      "text/plain": [
       "<Figure size 432x288 with 1 Axes>"
      ]
     },
     "metadata": {
      "tags": []
     },
     "output_type": "display_data"
    },
    {
     "data": {
      "image/png": "[encoded data removed]",
      "text/plain": [
       "<Figure size 432x288 with 1 Axes>"
      ]
     },
     "metadata": {
      "tags": []
     },
     "output_type": "display_data"
    }
   ],
   "source": [
    "# TODO: code to generate the plot here.\n",
    "\n",
    "col = 'TransactionID'\n",
    "merged = pd.concat([train_df[col], test_df[col]])\n",
    "sns.distplot(merged.tolist())\n",
    "plt.show()\n",
    "col = 'TransactionDT'\n",
    "merged = pd.concat([train_df[col], test_df[col]])\n",
    "sns.distplot(merged.tolist())\n",
    "plt.show()"
   ]
  },
  {
   "cell_type": "markdown",
   "metadata": {
    "colab_type": "text",
    "id": "WfICamm9Ufy5"
   },
   "source": [
    "When I saw that all transaction ids are continuous in train data, I also checked in test data. Both of them were having continous data. During working on the assignment, it was easier to notice that transactionDT i.e. time reference was also continuous. Not only that there was just a small gap between train data and test data. Both of them are having continuous 6 month data. This reason made me assume that transactionDT feature should not be considered in training but it didn't improve performance, may be there will be some inter connection that I may have missed but overall I found it interesting."
   ]
  },
  {
   "cell_type": "markdown",
   "metadata": {
    "colab_type": "text",
    "id": "cT7SLgK1-yBc"
   },
   "source": [
    "**Dropping some data**"
   ]
  },
  {
   "cell_type": "code",
   "execution_count": 0,
   "metadata": {
    "colab": {},
    "colab_type": "code",
    "id": "iXsJoJ0PYD_F"
   },
   "outputs": [],
   "source": [
    "drop_cols = train_df.columns[train_df.isna().sum()/len(train_df) > 0.6].tolist()"
   ]
  },
  {
   "cell_type": "markdown",
   "metadata": {
    "colab_type": "text",
    "id": "9yCDVL6t-aIF"
   },
   "source": [
    "These are the features having more than 60% nan values, so need to drop them."
   ]
  },
  {
   "cell_type": "code",
   "execution_count": 0,
   "metadata": {
    "colab": {},
    "colab_type": "code",
    "id": "Evo2vyo0-_KC"
   },
   "outputs": [],
   "source": [
    "train_df = train_df.drop(drop_cols,1)\n",
    "test_df = test_df.drop(drop_cols,1)"
   ]
  },
  {
   "cell_type": "code",
   "execution_count": 38,
   "metadata": {
    "colab": {
     "base_uri": "https://localhost:8080/",
     "height": 70
    },
    "colab_type": "code",
    "id": "Uvttkxu7JCcJ",
    "outputId": "d8ae3ea5-7a61-406b-cbe6-d419aad45005"
   },
   "outputs": [
    {
     "name": "stdout",
     "output_type": "stream",
     "text": [
      "final train columns 226\n",
      "final test columns 226\n",
      "difference {'isFraud'}\n"
     ]
    }
   ],
   "source": [
    "print(\"final train columns\", len(train_df.columns.tolist()))\n",
    "print(\"final test columns\", len(train_df.columns.tolist()))\n",
    "print(\"difference\", set(train_df.columns) - set(test_df.columns))"
   ]
  },
  {
   "cell_type": "markdown",
   "metadata": {
    "colab_type": "text",
    "id": "IXDtXLKo-0Ck"
   },
   "source": [
    "**FILL nan values**"
   ]
  },
  {
   "cell_type": "code",
   "execution_count": 0,
   "metadata": {
    "colab": {},
    "colab_type": "code",
    "id": "_qcKVWJO-9v7"
   },
   "outputs": [],
   "source": [
    "for col in train_df.columns[train_df.dtypes != object]:\n",
    "  train_df[col] = train_df[col].fillna(0)\n",
    "for col in train_df.columns[train_df.dtypes == object]:\n",
    "  train_df[col] = train_df[col].fillna('nan')  \n",
    "  \n",
    "  \n",
    "for col in test_df.columns[test_df.dtypes != object]:\n",
    "  test_df[col] = test_df[col].fillna(0)\n",
    "for col in test_df.columns[test_df.dtypes == object]:\n",
    "  test_df[col] = test_df[col].fillna('nan')  "
   ]
  },
  {
   "cell_type": "markdown",
   "metadata": {
    "colab_type": "text",
    "id": "69aycCER-3QV"
   },
   "source": [
    "**ENCODE**"
   ]
  },
  {
   "cell_type": "markdown",
   "metadata": {
    "colab_type": "text",
    "id": "tH-KYuw4Yns2"
   },
   "source": [
    "categorical features"
   ]
  },
  {
   "cell_type": "code",
   "execution_count": 40,
   "metadata": {
    "colab": {
     "base_uri": "https://localhost:8080/",
     "height": 70
    },
    "colab_type": "code",
    "id": "4uVoc6YhQqPa",
    "outputId": "52c77422-8c8c-462b-e647-9704bb83184a"
   },
   "outputs": [
    {
     "data": {
      "text/plain": [
       "Index(['ProductCD', 'card4', 'card6', 'P_emaildomain', 'M1', 'M2', 'M3', 'M4',\n",
       "       'M5', 'M6', 'M7', 'M8', 'M9'],\n",
       "      dtype='object')"
      ]
     },
     "execution_count": 40,
     "metadata": {
      "tags": []
     },
     "output_type": "execute_result"
    }
   ],
   "source": [
    "train_df.loc[:,train_df.dtypes == object].columns"
   ]
  },
  {
   "cell_type": "markdown",
   "metadata": {
    "colab_type": "text",
    "id": "2lzxVwr2041_"
   },
   "source": [
    "These are the features having categorical data which should be encoded."
   ]
  },
  {
   "cell_type": "code",
   "execution_count": 0,
   "metadata": {
    "colab": {},
    "colab_type": "code",
    "id": "aKKA-V-XoOZu"
   },
   "outputs": [],
   "source": [
    "dummies_cols =  list(train_df.loc[:,train_df.dtypes == object].columns)\n",
    "# dummies_cols.append('addr2')"
   ]
  },
  {
   "cell_type": "code",
   "execution_count": 42,
   "metadata": {
    "colab": {
     "base_uri": "https://localhost:8080/",
     "height": 158
    },
    "colab_type": "code",
    "id": "s-Vsc1Geocx3",
    "outputId": "c635dfd6-905a-4fa8-bb89-52bcef1ee250"
   },
   "outputs": [
    {
     "name": "stderr",
     "output_type": "stream",
     "text": [
      "/usr/local/lib/python3.6/dist-packages/ipykernel_launcher.py:3: FutureWarning: Sorting because non-concatenation axis is not aligned. A future version\n",
      "of pandas will change to not sort by default.\n",
      "\n",
      "To accept the future behavior, pass 'sort=False'.\n",
      "\n",
      "To retain the current behavior and silence the warning, pass 'sort=True'.\n",
      "\n",
      "  This is separate from the ipykernel package so we can avoid doing imports until\n"
     ]
    }
   ],
   "source": [
    "train_df['train'] = 1\n",
    "test_df['train'] = 0\n",
    "merged_df = pd.concat([train_df, test_df])\n",
    "del train_df, test_df"
   ]
  },
  {
   "cell_type": "markdown",
   "metadata": {
    "colab_type": "text",
    "id": "89UPsa8n1AbR"
   },
   "source": [
    "Merging train and test data before encoding because there can be some categories in test dataframe which train dataframe does not have, rather than keeping it as unknown data."
   ]
  },
  {
   "cell_type": "code",
   "execution_count": 0,
   "metadata": {
    "colab": {},
    "colab_type": "code",
    "id": "-77YLXijnp5v"
   },
   "outputs": [],
   "source": [
    "merged_df_d = pd.get_dummies(merged_df, columns = dummies_cols)"
   ]
  },
  {
   "cell_type": "code",
   "execution_count": 44,
   "metadata": {
    "colab": {
     "base_uri": "https://localhost:8080/",
     "height": 105
    },
    "colab_type": "code",
    "id": "0eCIoc-Goqhv",
    "outputId": "b1cd5c80-e7be-4387-e986-0fbef7ccb1cc"
   },
   "outputs": [
    {
     "name": "stdout",
     "output_type": "stream",
     "text": [
      "Index(['C1', 'C10', 'C11', 'C12', 'C13', 'C14', 'C2', 'C3', 'C4', 'C5',\n",
      "       ...\n",
      "       'addr2_93', 'addr2_94', 'addr2_95', 'addr2_96', 'addr2_97', 'addr2_98',\n",
      "       'addr2_99', 'addr2_100', 'addr2_101', 'addr2_102'],\n",
      "      dtype='object', length=410)\n"
     ]
    }
   ],
   "source": [
    "train_df_d = merged_df_d[merged_df_d['train'] == 1]\n",
    "\n",
    "\n",
    "print(train_df_d.columns)\n",
    "train_df_d = train_df_d.drop(['train'],1)\n",
    "\n",
    "test_df_d = merged_df_d[merged_df_d['train'] == 0]\n",
    "test_df_d = test_df_d.drop(['train','isFraud'],1)\n",
    "# print(test_df_d.columns['train'])\n",
    "\n",
    "del merged_df_d"
   ]
  },
  {
   "cell_type": "code",
   "execution_count": 45,
   "metadata": {
    "colab": {
     "base_uri": "https://localhost:8080/",
     "height": 70
    },
    "colab_type": "code",
    "id": "oqPeujC0JjUU",
    "outputId": "60648e75-4a4a-40f3-c9dc-1964fae20f8c"
   },
   "outputs": [
    {
     "name": "stdout",
     "output_type": "stream",
     "text": [
      "final train columns 409\n",
      "final test columns 408\n",
      "difference {'isFraud'}\n"
     ]
    }
   ],
   "source": [
    "print(\"final train columns\", len(train_df_d.columns.tolist()))\n",
    "print(\"final test columns\", len(test_df_d.columns.tolist()))\n",
    "print(\"difference\", set(train_df_d.columns) - set(test_df_d.columns))"
   ]
  },
  {
   "cell_type": "code",
   "execution_count": 46,
   "metadata": {
    "colab": {
     "base_uri": "https://localhost:8080/",
     "height": 54
    },
    "colab_type": "code",
    "id": "gFmy5sCXABP2",
    "outputId": "e8be93a4-2e68-469e-af2a-1a1354384e5c"
   },
   "outputs": [
    {
     "name": "stdout",
     "output_type": "stream",
     "text": [
      "{'V119', 'M4_M1', 'addr2_30', 'V43', 'P_emaildomain_gmail', 'addr2_90', 'V10', 'D3', 'V312', 'V131', 'M4_nan', 'V103', 'V23', 'V104', 'V67', 'V47', 'V28', 'V132', 'card4_visa', 'addr2_14', 'V41', 'M3_nan', 'V45', 'P_emaildomain_windstream.net', 'addr2_74', 'V302', 'V303', 'P_emaildomain_hotmail.de', 'M3_F', 'addr2_65', 'V88', 'P_emaildomain_cableone.net', 'V307', 'addr2_45', 'C2', 'V30', 'V319', 'C10', 'addr2_26', 'addr2_67', 'V95', 'V90', 'V110', 'addr2_33', 'P_emaildomain_juno.com', 'V77', 'V86', 'M9_T', 'P_emaildomain_yahoo.co.jp', 'V107', 'addr2_79', 'addr2_53', 'P_emaildomain_ymail.com', 'V39', 'V128', 'addr2_95', 'M5_T', 'M8_nan', 'addr2_94', 'P_emaildomain_yahoo.de', 'V24', 'addr2_17', 'addr2_80', 'V294', 'addr2_71', 'addr2_93', 'addr2_84', 'V69', 'V20', 'P_emaildomain_aol.com', 'V288', 'V305', 'P_emaildomain_optonline.net', 'V37', 'V113', 'addr2_13', 'P_emaildomain_embarqmail.com', 'V123', 'V279', 'P_emaildomain_att.net', 'V15', 'V97', 'V68', 'V320', 'P_emaildomain_frontier.com', 'addr2_52', 'V321', 'addr2_49', 'card2', 'P_emaildomain_servicios-ta.com', 'P_emaildomain_gmx.de', 'addr2_91', 'card6_charge card', 'addr2_68', 'ProductCD_R', 'P_emaildomain_outlook.com', 'addr2_44', 'addr2_75', 'V280', 'V32', 'addr2_39', 'addr2_83', 'TransactionDT', 'addr2_62', 'V62', 'P_emaildomain_sbcglobal.net', 'V59', 'V122', 'V124', 'V27', 'V48', 'M8_T', 'V61', 'P_emaildomain_scranton.edu', 'D10', 'V49', 'M9_F', 'P_emaildomain_charter.net', 'P_emaildomain_gmail.com', 'addr2_38', 'card4_discover', 'card4_mastercard', 'V9', 'V127', 'P_emaildomain_yahoo.co.uk', 'V66', 'V35', 'V114', 'V108', 'addr2_98', 'P_emaildomain_live.com', 'V83', 'V21', 'P_emaildomain_yahoo.es', 'V129', 'M4_M0', 'M3_T', 'addr2_78', 'V317', 'V291', 'addr2_100', 'addr2_40', 'V6', 'P_emaildomain_centurylink.net', 'D11', 'V301', 'V79', 'addr2_48', 'addr2_47', 'V134', 'V292', 'V99', 'V57', 'P_emaildomain_protonmail.com', 'C7', 'addr2_66', 'addr2_37', 'V74', 'V136', 'P_emaildomain_mac.com', 'addr2_57', 'V120', 'addr2_87', 'P_emaildomain_icloud.com', 'addr2_54', 'V46', 'addr2_29', 'V82', 'P_emaildomain_anonymous.com', 'V29', 'V71', 'V286', 'V313', 'ProductCD_W', 'addr2_22', 'P_emaildomain_yahoo.com.mx', 'V121', 'addr2_25', 'V56', 'D1', 'P_emaildomain_nan', 'C14', 'C3', 'V13', 'V133', 'V115', 'V73', 'M5_F', 'M8_F', 'addr2_34', 'card6_credit', 'addr2_88', 'V31', 'V299', 'V297', 'V3', 'card4_nan', 'addr2_15', 'addr2_51', 'C9', 'V58', 'addr2_27', 'P_emaildomain_cox.net', 'P_emaildomain_prodigy.net.mx', 'V109', 'M6_F', 'V2', 'V310', 'P_emaildomain_yahoo.fr', 'V287', 'V72', 'V293', 'addr2_101', 'V80', 'V40', 'P_emaildomain_comcast.net', 'V85', 'P_emaildomain_verizon.net', 'addr2_69', 'P_emaildomain_ptd.net', 'addr2_73', 'V70', 'V284', 'M7_F', 'P_emaildomain_frontiernet.net', 'D4', 'addr2_59', 'V50', 'V311', 'card4_american express', 'V33', 'M6_T', 'V5', 'V87', 'addr2_41', 'M2_F', 'V81', 'V78', 'V93', 'M1_F', 'P_emaildomain_roadrunner.com', 'card6_nan', 'V125', 'addr2_81', 'addr2_42', 'addr2_76', 'V34', 'addr2_102', 'D2', 'card3', 'addr2_97', 'M2_nan', 'V16', 'V285', 'V318', 'P_emaildomain_live.com.mx', 'V76', 'ProductCD_H', 'C11', 'V289', 'V4', 'V314', 'V52', 'ProductCD_C', 'V25', 'addr2_32', 'V137', 'addr2_63', 'card5', 'V44', 'P_emaildomain_netzero.net', 'addr2_16', 'M1_T', 'M6_nan', 'card1', 'V308', 'V22', 'addr2_18', 'addr2_11', 'V51', 'P_emaildomain_q.com', 'addr2_64', 'addr2_46', 'V14', 'addr2_61', 'addr2_55', 'addr2_28', 'V8', 'dist1', 'V53', 'addr2_19', 'P_emaildomain_aim.com', 'V1', 'addr1', 'V63', 'addr2_56', 'addr2_96', 'TransactionID', 'V300', 'V309', 'addr2_31', 'V42', 'M5_nan', 'V94', 'V18', 'V84', 'card6_debit', 'V101', 'addr2_60', 'addr2_92', 'V36', 'V117', 'P_emaildomain_bellsouth.net', 'addr2_82', 'M9_nan', 'P_emaildomain_hotmail.fr', 'V118', 'V106', 'V283', 'V75', 'V112', 'addr2_89', 'V11', 'V111', 'P_emaildomain_earthlink.net', 'V12', 'P_emaildomain_rocketmail.com', 'V19', 'addr2_12', 'P_emaildomain_outlook.es', 'C4', 'C5', 'V281', 'addr2_24', 'addr2_20', 'addr2_50', 'V89', 'V91', 'C12', 'P_emaildomain_sc.rr.com', 'P_emaildomain_yahoo.com', 'M2_T', 'addr2_35', 'D15', 'V38', 'V298', 'V316', 'addr2_36', 'TransactionAmt', 'P_emaildomain_cfl.rr.com', 'V26', 'P_emaildomain_mail.com', 'addr2_85', 'M7_nan', 'C13', 'addr2_21', 'C6', 'addr2_99', 'V116', 'addr2_23', 'P_emaildomain_twc.com', 'M1_nan', 'V64', 'V105', 'V102', 'P_emaildomain_hotmail.com', 'D5', 'V65', 'P_emaildomain_netzero.com', 'V295', 'card6_debit or credit', 'V315', 'V304', 'P_emaildomain_hotmail.es', 'M4_M2', 'P_emaildomain_web.de', 'ProductCD_S', 'P_emaildomain_msn.com', 'V98', 'C8', 'M7_T', 'addr2_43', 'V55', 'P_emaildomain_live.fr', 'V92', 'P_emaildomain_hotmail.co.uk', 'V7', 'addr2_72', 'addr2_86', 'V296', 'V96', 'P_emaildomain_suddenlink.net', 'V130', 'V282', 'V100', 'addr2_70', 'V135', 'V54', 'addr2_10', 'addr2_58', 'V17', 'C1', 'P_emaildomain_me.com', 'V60', 'V290', 'V126', 'addr2_77', 'V306'}\n"
     ]
    }
   ],
   "source": [
    "pred_column = 'isFraud'\n",
    "features = set(train_df_d.columns) - set([pred_column])\n",
    "print(features)"
   ]
  },
  {
   "cell_type": "markdown",
   "metadata": {
    "colab_type": "text",
    "id": "ijfZs22PUfy5"
   },
   "source": [
    "## Part 6 - Prediction Model"
   ]
  },
  {
   "cell_type": "code",
   "execution_count": 0,
   "metadata": {
    "colab": {},
    "colab_type": "code",
    "id": "rKm2hFVcUfy6"
   },
   "outputs": [],
   "source": [
    "# TODO: code for your final model"
   ]
  },
  {
   "cell_type": "markdown",
   "metadata": {
    "colab_type": "text",
    "id": "VOu1uwR5BF_P"
   },
   "source": [
    "**K fold Cross Validation**"
   ]
  },
  {
   "cell_type": "code",
   "execution_count": 48,
   "metadata": {
    "colab": {
     "base_uri": "https://localhost:8080/",
     "height": 105
    },
    "colab_type": "code",
    "id": "fvfONgqF_LZS",
    "outputId": "97d5b2d3-90d1-409e-8648-21c736017e71"
   },
   "outputs": [
    {
     "name": "stdout",
     "output_type": "stream",
     "text": [
      "Final train data:  (590540, 408) (590540,)\n",
      "Fold-> 0\n",
      "Fold-> 1\n",
      "Fold-> 2\n",
      "AUC score 0.8211538544399662\n"
     ]
    }
   ],
   "source": [
    "x,y = train_df_d[features], train_df_d[pred_column]\n",
    "\n",
    "print(\"Final train data: \",x.shape, y.shape)\n",
    "\n",
    "folds = KFold(n_splits=3, shuffle=True)\n",
    "results = []\n",
    "\n",
    "for fold_index, (train_idx, val_idx) in enumerate(folds.split(x, y)):\n",
    "    \n",
    "    print(\"Fold->\", fold_index)\n",
    "    \n",
    "    train_x, train_y = x.iloc[train_idx,:], y[train_idx].astype(np.uint8)    \n",
    "    val_x, val_y = x.iloc[val_idx,:], np.array(y[val_idx]).astype(np.uint8)\n",
    "\n",
    "#     Linear regression\n",
    "    reg = LinearRegression()   \n",
    "    model = reg.fit(train_x, train_y)\n",
    "    pred_y = model.predict(val_x)\n",
    "    \n",
    "    results.append(metrics.roc_auc_score(val_y, pred_y))\n",
    "\n",
    "print('AUC score', np.mean(results))"
   ]
  },
  {
   "cell_type": "markdown",
   "metadata": {
    "colab_type": "text",
    "id": "Hr0lNcrU_FxR"
   },
   "source": [
    "**Training**"
   ]
  },
  {
   "cell_type": "code",
   "execution_count": 49,
   "metadata": {
    "colab": {
     "base_uri": "https://localhost:8080/",
     "height": 34
    },
    "colab_type": "code",
    "id": "AHft7lCxlqz9",
    "outputId": "443df4e0-f8ad-4e2f-f84b-ded4282bf295"
   },
   "outputs": [
    {
     "name": "stdout",
     "output_type": "stream",
     "text": [
      "Final train data:  (590540, 408) (590540,)\n"
     ]
    }
   ],
   "source": [
    "x,y = train_df_d[features], train_df_d[pred_column]\n",
    "\n",
    "print(\"Final train data: \",x.shape, y.shape)\n",
    "\n",
    "# Linear regression\n",
    "reg = LinearRegression()   \n",
    "model = reg.fit(x,y)\n"
   ]
  },
  {
   "cell_type": "markdown",
   "metadata": {
    "colab_type": "text",
    "id": "qxvyKBDp_ITS"
   },
   "source": [
    "**Predicting on test data**"
   ]
  },
  {
   "cell_type": "code",
   "execution_count": 50,
   "metadata": {
    "colab": {
     "base_uri": "https://localhost:8080/",
     "height": 52
    },
    "colab_type": "code",
    "id": "Vl4mVAgbAiGu",
    "outputId": "9e6a851b-fd5a-46c7-9111-f9fbe0520258"
   },
   "outputs": [
    {
     "name": "stdout",
     "output_type": "stream",
     "text": [
      "final test data:  (506691, 408)\n",
      "output rows (506691,)\n"
     ]
    }
   ],
   "source": [
    "transaction_ids = test_df_d['TransactionID']\n",
    "print(\"final test data: \", test_df_d.shape)\n",
    "\n",
    "filename = data_path + 'results/'+ 'pred2.csv'\n",
    "# model = pickle.load(open(data_path + 'models/'+ 'logReg.sav', 'rb'))\n",
    "\n",
    "pred_y = model.predict(test_df_d)\n",
    "\n",
    "print('output rows', pred_y.shape) # 506691 \n",
    "# pred_y.to_csv(filename, sep='\\t')\n",
    "\n",
    "\n",
    "pred_data = {'TransactionID': transaction_ids, 'isFraud':pred_y}\n",
    "df = pd.DataFrame(pred_data)\n",
    "df.to_csv(filename, index = False)"
   ]
  },
  {
   "cell_type": "markdown",
   "metadata": {
    "colab_type": "text",
    "id": "Xo6AtSU0Ufy-"
   },
   "source": [
    "After dropping some features and filling up nan values and encoding categorical columns, I tried few model trainings. I used K fold cross validation to measure performance initially with fewer data and when performance looked satisfied, increased features and eventually figured out linear regression model performing well. Still there are some features like card1,card2,card3 and card5 I found highly dependednt to each other which I could use to fill up the nan values. As there are very large amount of nan values in anonymous features I had to drop them directly instead of using them with a higher complex model and make use of high dimentional data."
   ]
  },
  {
   "cell_type": "markdown",
   "metadata": {
    "colab_type": "text",
    "id": "jB8iFvWYUfy-"
   },
   "source": [
    "## Part 7 - Final Result"
   ]
  },
  {
   "cell_type": "markdown",
   "metadata": {
    "colab_type": "text",
    "id": "vmjw7RCmUfy_"
   },
   "source": [
    "Report the rank, score, number of entries, for your highest rank. Include a snapshot of your best score on the leaderboard as confirmation. Be sure to provide a link to your Kaggle profile. Make sure to include a screenshot of your ranking. Make sure your profile includes your face and affiliation with SBU."
   ]
  },
  {
   "cell_type": "markdown",
   "metadata": {
    "colab_type": "text",
    "id": "TtlQepE6UfzA"
   },
   "source": [
    "Kaggle Link: https://www.kaggle.com/karanshahstonybrook"
   ]
  },
  {
   "cell_type": "markdown",
   "metadata": {
    "colab_type": "text",
    "id": "V_l6ksO_UfzA"
   },
   "source": [
    "Highest Rank: 5091"
   ]
  },
  {
   "cell_type": "markdown",
   "metadata": {
    "colab_type": "text",
    "id": "XmgRSHivUfzB"
   },
   "source": [
    "Score: 0.8639"
   ]
  },
  {
   "cell_type": "markdown",
   "metadata": {
    "colab_type": "text",
    "id": "ZU9zvUCGUfzB"
   },
   "source": [
    "Number of entries: 2"
   ]
  },
  {
   "cell_type": "markdown",
   "metadata": {
    "colab_type": "text",
    "id": "HjEJAxBiUfzC"
   },
   "source": [
    "INCLUDE IMAGE OF YOUR KAGGLE RANKING!\n",
    "<img src=\"https://drive.google.com/uc?export=view&id=16OKm-UWWswK1qh8QljzhuLAliOQqF_BM\">"
   ]
  }
 ],
 "metadata": {
  "accelerator": "GPU",
  "colab": {
   "collapsed_sections": [
    "Ia_9e-GNUfyg",
    "L2lYIvM7Ufym",
    "V0zlyE2OUfyq",
    "4XWDg8LFUfyw",
    "OQo0JygiUfy2",
    "jB8iFvWYUfy-"
   ],
   "name": "cse519_hw2_Shah_Karan_112715555.ipynb",
   "provenance": []
  },
  "kernelspec": {
   "display_name": "Python 3",
   "language": "python",
   "name": "python3"
  },
  "language_info": {
   "codemirror_mode": {
    "name": "ipython",
    "version": 3
   },
   "file_extension": ".py",
   "mimetype": "text/x-python",
   "name": "python",
   "nbconvert_exporter": "python",
   "pygments_lexer": "ipython3",
   "version": "3.6.7"
  }
 },
 "nbformat": 4,
 "nbformat_minor": 1
}
